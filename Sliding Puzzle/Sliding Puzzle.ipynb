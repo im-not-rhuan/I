{
  "cells": [
    {
      "cell_type": "code",
      "execution_count": 1,
      "metadata": {
        "id": "oeBYvCz44Kb9"
      },
      "outputs": [],
      "source": [
        "import numpy as np\n",
        "import pandas as pd\n",
        "from random import sample\n",
        "from datetime import datetime, timedelta"
      ]
    },
    {
      "cell_type": "code",
      "execution_count": 2,
      "metadata": {
        "id": "38vOZbmMnI6f"
      },
      "outputs": [],
      "source": [
        "def geramatriz():\n",
        "  aux = sample(range(0, 9), 9)\n",
        "  matriz = np.array([aux[i:i + 3] for i in range(0, len(aux), 3)])\n",
        "  return matriz\n",
        "\n",
        "def findzeros(m):\n",
        "  vetor = []\n",
        "  for i in range(3):\n",
        "      for j in range(3):\n",
        "        if m[i][j]==0:\n",
        "          vetor=[i,j]\n",
        "  return vetor\n",
        "\n",
        "def m_exists(m1, m2):\n",
        "  for matriz in m1:\n",
        "    result = (matriz == m2)\n",
        "    if(result.all()==True):\n",
        "      return 1\n",
        "  return 0\n"
      ]
    },
    {
      "attachments": {},
      "cell_type": "markdown",
      "metadata": {},
      "source": [
        "## Funções:\n",
        "geramatriz: Gera uma matriz 3x3 aleatoriamente com numeros de 0 a 9\n",
        "\n",
        "findzeros: acha o par ordenado o qual está o 0 da matriz (posição \"vazia\")\n",
        "\n",
        "m_exists: verifica se uma matriz já está na lista de matrizes geradas"
      ]
    },
    {
      "cell_type": "code",
      "execution_count": 3,
      "metadata": {
        "id": "iIVwk0Ll4YKn"
      },
      "outputs": [],
      "source": [
        "def game(m, arvore, backup, tam, ini, end):\n",
        "  final = np.array([[1,2,3], [4,5,6], [7,8,0]])  #matriz objetivo\n",
        "  matriz = m.copy()\n",
        "  v = []\n",
        "  finish = (matriz == final)\n",
        "  v=findzeros(matriz)  #acha o ponto livre da matriz\n",
        "\n",
        "  if v == [0,0]:  ##cada if verifica onde está o zero, e então gera as matrizes com os possíveis movimentos\n",
        "    m1 = matriz.copy()\n",
        "    m1[0][0]=matriz[0][1]\n",
        "    m1[0][1]=matriz[0][0]\n",
        "    block = m_exists(backup,m1)  #verifica se a matriz já está na lista de matrizes geradas (backup)\n",
        "                                 #se não está, adiciona na lista árvore (matrizes a serem analisadas)\n",
        "                                 #e na backup (armazena matrizes já geradas)\n",
        "    if block ==0:\n",
        "      arvore.append(m1)\n",
        "      backup.append(m1)\n",
        "    m2 = matriz.copy()\n",
        "    m2[0][0]=matriz[1][0]\n",
        "    m2[1][0]=matriz[0][0]\n",
        "    block = m_exists(backup,m2)\n",
        "    if block ==0:\n",
        "      arvore.append(m2)\n",
        "      backup.append(m2)\n",
        "  elif v == [0,1]:\n",
        "    m1 = matriz.copy()\n",
        "    m1[0][1]=matriz[0][0]\n",
        "    m1[0][0]=matriz[0][1]\n",
        "    block = m_exists(backup,m1)\n",
        "    if block ==0:\n",
        "      arvore.append(m1)\n",
        "      backup.append(m1)\n",
        "    m2 = matriz.copy()\n",
        "    m2[0][1]=matriz[0][2]\n",
        "    m2[0][2]=matriz[0][1]\n",
        "    block = m_exists(backup,m2)\n",
        "    if block ==0:\n",
        "      arvore.append(m2)\n",
        "      backup.append(m2)\n",
        "    m3 = matriz.copy()\n",
        "    m3[0][1]=matriz[1][1]\n",
        "    m3[1][1]=matriz[0][1]\n",
        "    block = m_exists(backup,m3)\n",
        "    if block ==0:\n",
        "      arvore.append(m3)\n",
        "      backup.append(m3)\n",
        "  elif v == [0,2]:\n",
        "    m1 = matriz.copy()\n",
        "    m1[0][2]=matriz[0][1]\n",
        "    m1[0][1]=matriz[0][2]\n",
        "    block = m_exists(backup,m1)\n",
        "    if block ==0:\n",
        "      arvore.append(m1)\n",
        "      backup.append(m1)\n",
        "    m2 = matriz.copy()\n",
        "    m2[0][2]=matriz[1][2]\n",
        "    m2[1][2]=matriz[0][2]\n",
        "    block = m_exists(backup,m2)\n",
        "    if block ==0:\n",
        "      arvore.append(m2)\n",
        "      backup.append(m2)\n",
        "  elif v == [1,0]:\n",
        "    m1 = matriz.copy()\n",
        "    m1[1][0]=matriz[0][0]\n",
        "    m1[0][0]=matriz[1][0]\n",
        "    block = m_exists(backup,m1)\n",
        "    if block ==0:\n",
        "      arvore.append(m1)\n",
        "      backup.append(m1)\n",
        "    m2 = matriz.copy()\n",
        "    m2[1][0]=matriz[1][1]\n",
        "    m2[1][1]=matriz[1][0]\n",
        "    block = m_exists(backup,m2)\n",
        "    if block ==0:\n",
        "      arvore.append(m2)\n",
        "      backup.append(m2)\n",
        "    m3 = matriz.copy()\n",
        "    m3[1][0]=matriz[2][0]\n",
        "    m3[2][0]=matriz[1][0]\n",
        "    block = m_exists(backup,m3)\n",
        "    if block ==0:\n",
        "      arvore.append(m3)\n",
        "      backup.append(m3)\n",
        "  elif v == [1,1]:\n",
        "    m1 = matriz.copy()\n",
        "    m1[1][1]=matriz[0][1]\n",
        "    m1[0][1]=matriz[1][1]\n",
        "    block = m_exists(backup,m1)\n",
        "    if block ==0:\n",
        "      arvore.append(m1)\n",
        "      backup.append(m1)\n",
        "    m2 = matriz.copy()\n",
        "    m2[1][1]=matriz[2][1]\n",
        "    m2[2][1]=matriz[1][1]\n",
        "    block = m_exists(backup,m2)\n",
        "    if block ==0:\n",
        "      arvore.append(m2)\n",
        "      backup.append(m2)\n",
        "    m3 = matriz.copy()\n",
        "    m3[1][1]=matriz[1][0]\n",
        "    m3[1][0]=matriz[1][1]\n",
        "    block = m_exists(backup,m3)\n",
        "    if block ==0:\n",
        "      arvore.append(m3)\n",
        "      backup.append(m3)\n",
        "    m4 = matriz.copy()\n",
        "    m4[1][1]=matriz[1][2]\n",
        "    m4[1][2]=matriz[1][1]\n",
        "    block = m_exists(backup,m4)\n",
        "    if block ==0:\n",
        "      arvore.append(m4)\n",
        "      backup.append(m4)\n",
        "  elif v == [1,2]:\n",
        "    m1 = matriz.copy()\n",
        "    m1[1][2]=matriz[0][1]\n",
        "    m1[0][1]=matriz[1][2]\n",
        "    block = m_exists(backup,m1)\n",
        "    if block ==0:\n",
        "      arvore.append(m1)\n",
        "      backup.append(m1)\n",
        "    m2 = matriz.copy()\n",
        "    m2[1][2]=matriz[1][1]\n",
        "    m2[1][1]=matriz[1][2]\n",
        "    block = m_exists(backup,m2)\n",
        "    if block ==0:\n",
        "      arvore.append(m2)\n",
        "      backup.append(m2)\n",
        "    m3 = matriz.copy()\n",
        "    m3[1][2]=matriz[2][2]\n",
        "    m3[2][2]=matriz[1][2]\n",
        "    block = m_exists(backup,m3)\n",
        "    if block ==0:\n",
        "      arvore.append(m3)\n",
        "      backup.append(m3)\n",
        "  elif v == [2,0]:\n",
        "    m1 = matriz.copy()\n",
        "    m1[2][0]=matriz[1][0]\n",
        "    m1[1][0]=matriz[2][0]\n",
        "    block = m_exists(backup,m1)\n",
        "    if block ==0:\n",
        "      arvore.append(m1)\n",
        "      backup.append(m1)\n",
        "    m2 = matriz.copy()\n",
        "    m2[2][0]=matriz[2][1]\n",
        "    m2[2][1]=matriz[2][0]\n",
        "    block = m_exists(backup,m2)\n",
        "    if block ==0:\n",
        "      arvore.append(m2)\n",
        "      backup.append(m2)\n",
        "  elif v == [2,1]:\n",
        "    m1 = matriz.copy()\n",
        "    m1[2][1]=matriz[2][0]\n",
        "    m1[2][0]=matriz[2][1]\n",
        "    block = m_exists(backup,m1)\n",
        "    if block ==0:\n",
        "      arvore.append(m1)\n",
        "      backup.append(m1)\n",
        "    m2 = matriz.copy()\n",
        "    m2[2][1]=matriz[1][1]\n",
        "    m2[1][1]=matriz[2][1]\n",
        "    block = m_exists(backup,m2)\n",
        "    if block ==0:\n",
        "      arvore.append(m2)\n",
        "      backup.append(m2)\n",
        "    m3 = matriz.copy()\n",
        "    m3[2][1]=matriz[2][2]\n",
        "    m3[2][2]=matriz[2][1]\n",
        "    block = m_exists(backup,m3)\n",
        "    if block ==0:\n",
        "      arvore.append(m3)\n",
        "      backup.append(m3)\n",
        "  elif v == [2,2]:\n",
        "    m1 = matriz.copy()\n",
        "    m1[2][2]=matriz[1][2]\n",
        "    m1[1][2]=matriz[2][2]\n",
        "    block = m_exists(backup,m1)\n",
        "    if block ==0:\n",
        "      arvore.append(m1)\n",
        "      backup.append(m1)\n",
        "    m2 = matriz.copy()\n",
        "    m2[2][2]=matriz[2][1]\n",
        "    m2[2][1]=matriz[2][2]\n",
        "    block = m_exists(backup,m2)\n",
        "    if block ==0:\n",
        "      arvore.append(m2)\n",
        "      backup.append(m2)\n",
        "\n",
        "  aux = arvore[0]  #variavel auxiliar que receberá a primeira matriz da fila de matrizes\n",
        "  arvore.pop(0)  #matriz é excluida da lista de matrizes a serem analisadas\n",
        "  finish = (aux == final)  #verifica se a matriz atual é a matriz target\n",
        "  if(finish.all() == True):  #caso a matriz atual seja igual a matriz target, printa a hora de inicio/fim, e a quantidade de matrizes percorridas\n",
        "    print('Inicio')\n",
        "    print(ini)\n",
        "    print('Fim')\n",
        "    end = (str(datetime.now()))\n",
        "    print(end)\n",
        "    print(f'Tamanho = {tam}')\n",
        "    return{'Fim'+end}\n",
        "  elif(finish.all() == False):  #caso a matriz atual seja diferente da matriz target\n",
        "    tam = tam+1  #incrementa o contador de matrizes percorridas\n",
        "    game(aux,arvore, backup, tam, ini, end)  #chama recursivamente a função"
      ]
    },
    {
      "cell_type": "code",
      "execution_count": 5,
      "metadata": {
        "id": "Cem5xWQF6Jft"
      },
      "outputs": [],
      "source": [
        "import sys\n",
        "sys.setrecursionlimit(100000000)"
      ]
    },
    {
      "attachments": {},
      "cell_type": "markdown",
      "metadata": {},
      "source": [
        "Aumenta o limite de recursão, para não parar por estoura-lo"
      ]
    },
    {
      "attachments": {},
      "cell_type": "markdown",
      "metadata": {},
      "source": [
        "Abaixo, são criadas matrizes manualmente para mostrar o código executando em um tempo menor"
      ]
    },
    {
      "cell_type": "code",
      "execution_count": 7,
      "metadata": {
        "id": "0vkDTcRPxlXv"
      },
      "outputs": [],
      "source": [
        "\n",
        "tam=0\n",
        "mm = np.array([[1,2,3], [4,6,8], [7,0,5]])\n",
        "mm1 = np.array([[1,2,3], [4,0,6], [7,5,8]])\n",
        "mm2 = np.array([[1,2,3], [4,6,8], [7,5,0]])\n",
        "mm3 = np.array([[1,2,3], [4,0,8], [7,6,5]])\n",
        "mm4 = np.array([[1,0,3], [4,2,8], [7,6,5]])\n",
        "mm5 = np.array([[1,0,3], [4,8,2], [7,6,5]])\n",
        "mm6 = np.array([[4,1,3], [0,8,2], [7,6,5]])\n",
        "mm7 = np.array([[4,1,3], [7,8,2], [0,6,5]])\n",
        "mm8 = np.array([[4,1,3], [7,8,2], [6,0,5]])"
      ]
    },
    {
      "cell_type": "code",
      "execution_count": 8,
      "metadata": {
        "colab": {
          "base_uri": "https://localhost:8080/"
        },
        "id": "axwYfFL6B920",
        "outputId": "5b58e08a-5faf-4572-f4f3-d30073843764"
      },
      "outputs": [
        {
          "name": "stdout",
          "output_type": "stream",
          "text": [
            "Inicio\n",
            "2023-03-20 19:28:00.506748\n",
            "Fim\n",
            "2023-03-20 19:28:00.539760\n",
            "Tamanho = 69\n"
          ]
        }
      ],
      "source": [
        "end = datetime.now()\n",
        "arvore0 = []\n",
        "backup0 = []\n",
        "tam=0\n",
        "game(mm, arvore0, backup0, tam, ini = datetime.now(), end=end)"
      ]
    },
    {
      "cell_type": "code",
      "execution_count": 9,
      "metadata": {
        "colab": {
          "base_uri": "https://localhost:8080/"
        },
        "id": "VScMPAbhdqk0",
        "outputId": "6cae9086-48da-40b1-a5ec-2840a618478d"
      },
      "outputs": [
        {
          "name": "stdout",
          "output_type": "stream",
          "text": [
            "Inicio\n",
            "2023-03-20 19:28:02.703886\n",
            "Fim\n",
            "2023-03-20 19:28:02.704881\n",
            "Tamanho = 8\n"
          ]
        }
      ],
      "source": [
        "end = datetime.now()\n",
        "arvore1 = []\n",
        "backup1 = []\n",
        "tam=0\n",
        "game(mm1, arvore1, backup1, tam, ini = datetime.now(), end=end)\n"
      ]
    },
    {
      "cell_type": "code",
      "execution_count": 11,
      "metadata": {
        "colab": {
          "base_uri": "https://localhost:8080/"
        },
        "id": "fqfkjkjmcqcx",
        "outputId": "ddc39b39-eeb9-4387-eead-65f65679e2c8"
      },
      "outputs": [
        {
          "name": "stdout",
          "output_type": "stream",
          "text": [
            "Inicio\n",
            "2023-03-20 19:28:24.006905\n",
            "Fim\n",
            "2023-03-20 19:28:24.011904\n",
            "Tamanho = 25\n"
          ]
        }
      ],
      "source": [
        "tam=0\n",
        "end = datetime.now()\n",
        "arvore2 = []\n",
        "backup2 = []\n",
        "game(mm2, arvore2, backup2, tam, ini = datetime.now(), end=end)"
      ]
    },
    {
      "cell_type": "code",
      "execution_count": 12,
      "metadata": {
        "colab": {
          "base_uri": "https://localhost:8080/"
        },
        "id": "39_v1EOTB8eu",
        "outputId": "bf46d475-fdaf-4a48-fabd-f2095be309fb"
      },
      "outputs": [
        {
          "name": "stdout",
          "output_type": "stream",
          "text": [
            "Inicio\n",
            "2023-03-20 19:28:25.833324\n",
            "Fim\n",
            "2023-03-20 19:28:25.926345\n",
            "Tamanho = 122\n"
          ]
        }
      ],
      "source": [
        "end = datetime.now()\n",
        "arvore3 = []\n",
        "backup3 = []\n",
        "tam=0\n",
        "game(mm3, arvore3, backup3, tam, ini = datetime.now(), end=end)"
      ]
    },
    {
      "cell_type": "code",
      "execution_count": 13,
      "metadata": {
        "colab": {
          "base_uri": "https://localhost:8080/"
        },
        "id": "jRUel22FCEpD",
        "outputId": "80aab823-781a-4c9c-e17a-a6032d227d58"
      },
      "outputs": [
        {
          "name": "stdout",
          "output_type": "stream",
          "text": [
            "Inicio\n",
            "2023-03-20 19:28:28.124453\n",
            "Fim\n",
            "2023-03-20 19:28:28.389257\n",
            "Tamanho = 203\n"
          ]
        }
      ],
      "source": [
        "end = datetime.now()\n",
        "arvore4 = []\n",
        "backup4 = []\n",
        "tam=0\n",
        "game(mm4, arvore4, backup4, tam, ini = datetime.now(), end=end)"
      ]
    },
    {
      "cell_type": "code",
      "execution_count": 14,
      "metadata": {
        "colab": {
          "base_uri": "https://localhost:8080/"
        },
        "id": "hyDjfF0CCTI3",
        "outputId": "73a6ef5f-3618-4fff-8e43-2ffa81e65397"
      },
      "outputs": [
        {
          "name": "stdout",
          "output_type": "stream",
          "text": [
            "Inicio\n",
            "2023-03-20 19:28:30.308347\n",
            "Fim\n",
            "2023-03-20 19:28:34.681481\n",
            "Tamanho = 848\n"
          ]
        }
      ],
      "source": [
        "end = datetime.now()\n",
        "arvore5 = []\n",
        "backup5 = []\n",
        "tam=0\n",
        "game(mm5, arvore5, backup5, tam, ini = datetime.now(), end=end)"
      ]
    },
    {
      "cell_type": "code",
      "execution_count": 15,
      "metadata": {
        "colab": {
          "base_uri": "https://localhost:8080/"
        },
        "id": "BzCVpGIJKlH-",
        "outputId": "71872f2a-9244-4d35-b92e-6d89028c3b99"
      },
      "outputs": [
        {
          "name": "stdout",
          "output_type": "stream",
          "text": [
            "Inicio\n",
            "2023-03-20 19:28:34.715889\n",
            "Fim\n",
            "2023-03-20 19:28:59.871513\n",
            "Tamanho = 2027\n"
          ]
        }
      ],
      "source": [
        "end = datetime.now()\n",
        "arvore6 = []\n",
        "backup6 = []\n",
        "tam=0\n",
        "game(mm6, arvore6, backup6, tam, ini = datetime.now(), end=end)"
      ]
    },
    {
      "cell_type": "code",
      "execution_count": 16,
      "metadata": {
        "colab": {
          "base_uri": "https://localhost:8080/"
        },
        "id": "G6q3zvIQKmam",
        "outputId": "66c5ddac-51bd-4e7f-a011-721bef47140b"
      },
      "outputs": [
        {
          "name": "stdout",
          "output_type": "stream",
          "text": [
            "Inicio\n",
            "2023-03-20 19:28:59.901192\n",
            "Fim\n",
            "2023-03-20 19:29:54.278642\n",
            "Tamanho = 2961\n"
          ]
        }
      ],
      "source": [
        "end = datetime.now()\n",
        "arvore7 = []\n",
        "backup7 = []\n",
        "tam=0\n",
        "game(mm7, arvore7, backup7, tam, ini = datetime.now(), end=end)"
      ]
    },
    {
      "cell_type": "code",
      "execution_count": 17,
      "metadata": {
        "colab": {
          "base_uri": "https://localhost:8080/"
        },
        "id": "Z8sN_GQ_Knkc",
        "outputId": "18291411-ef78-4d21-9937-b9311acb6817"
      },
      "outputs": [
        {
          "name": "stdout",
          "output_type": "stream",
          "text": [
            "Inicio\n",
            "2023-03-20 19:29:54.351704\n",
            "Fim\n",
            "2023-03-20 19:33:12.543951\n",
            "Tamanho = 5683\n"
          ]
        }
      ],
      "source": [
        "end = datetime.now()\n",
        "arvore8 = []\n",
        "backup8 = []\n",
        "tam=0\n",
        "game(mm8, arvore8, backup8, tam, ini = datetime.now(), end=end)"
      ]
    },
    {
      "cell_type": "code",
      "execution_count": 18,
      "metadata": {},
      "outputs": [
        {
          "name": "stdout",
          "output_type": "stream",
          "text": [
            "[[2 4 5]\n",
            " [8 0 1]\n",
            " [6 7 3]]\n"
          ]
        }
      ],
      "source": [
        "m = geramatriz()\n",
        "m\n",
        "print(m)"
      ]
    },
    {
      "cell_type": "code",
      "execution_count": 19,
      "metadata": {},
      "outputs": [
        {
          "name": "stdout",
          "output_type": "stream",
          "text": [
            "Inicio\n",
            "2023-03-20 19:33:25.096520\n",
            "Fim\n",
            "2023-03-21 03:35:50.519161\n",
            "Tamanho = 74046\n"
          ]
        }
      ],
      "source": [
        "arvore = []\n",
        "end = datetime.now()\n",
        "backup = []\n",
        "tam=0\n",
        "game(m, arvore, backup, tam, ini = datetime.now(), end=end)"
      ]
    },
    {
      "attachments": {},
      "cell_type": "markdown",
      "metadata": {},
      "source": [
        "Este ultimo foi gerado pela função, para ver o tempo de achar uma solução de uma matriz realmente aleatoria"
      ]
    }
  ],
  "metadata": {
    "colab": {
      "provenance": []
    },
    "kernelspec": {
      "display_name": "Python 3",
      "name": "python3"
    },
    "language_info": {
      "codemirror_mode": {
        "name": "ipython",
        "version": 3
      },
      "file_extension": ".py",
      "mimetype": "text/x-python",
      "name": "python",
      "nbconvert_exporter": "python",
      "pygments_lexer": "ipython3",
      "version": "3.11.2"
    }
  },
  "nbformat": 4,
  "nbformat_minor": 0
}
